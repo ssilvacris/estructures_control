{
 "cells": [
  {
   "cell_type": "markdown",
   "metadata": {},
   "source": [
    "## Data Science amb Python\n",
    "\n",
    "**Estudiant**: Cristiane de Souza da Silva\n",
    "\n",
    "\n",
    "\n",
    "### Lliurament tasca 3: Estructura de control\n"
   ]
  },
  {
   "cell_type": "markdown",
   "metadata": {},
   "source": [
    "- **Exercici 1**\n",
    "\n",
    "L'exercici consisteix a crear un programa que et classifiqui una variable numèrica en funció de l’escala Suspès/Aprovat/Notable/Excel·lent."
   ]
  },
  {
   "cell_type": "code",
   "execution_count": 1,
   "metadata": {},
   "outputs": [],
   "source": [
    "def nota_prova(nota): \n",
    "    \n",
    "    if nota >= 90: return \"Excel·lent\"\n",
    "    \n",
    "    elif nota >= 80: return \"Notable\"\n",
    "    \n",
    "    elif nota >= 70: return \"Aprovat\"\n",
    "    \n",
    "    else : return \"Suspès\""
   ]
  },
  {
   "cell_type": "code",
   "execution_count": 2,
   "metadata": {},
   "outputs": [
    {
     "name": "stdout",
     "output_type": "stream",
     "text": [
      "Suspès\n",
      "Notable\n",
      "Aprovat\n",
      "Excel·lent\n"
     ]
    }
   ],
   "source": [
    "print(nota_prova(50))\n",
    "print(nota_prova(82))\n",
    "print(nota_prova(75))\n",
    "print(nota_prova(95))"
   ]
  },
  {
   "cell_type": "markdown",
   "metadata": {},
   "source": [
    "- **Exercici 2**\n",
    "\n",
    "Utilitzant el següent tutorial Programiz: Python Input, Output and Import crea un programa que et pregunti dos números. T’ha de mostrar un missatge dient si el primer és més gran, el segon és més gran o són iguals."
   ]
  },
  {
   "cell_type": "code",
   "execution_count": 19,
   "metadata": {},
   "outputs": [
    {
     "name": "stdin",
     "output_type": "stream",
     "text": [
      "Introduïu un números:  4\n",
      "Introduïu un números:  11\n"
     ]
    },
    {
     "name": "stdout",
     "output_type": "stream",
     "text": [
      "11  es mes gran\n"
     ]
    }
   ],
   "source": [
    "num1 =int(input(\"Introduïu un números: \")) #the function split() was used \n",
    "#to allow spacing between the two values when typing them\n",
    "\n",
    "num2 =int(input(\"Introduïu un números: \"))\n",
    "       \n",
    "if num1 < num2:\n",
    "       print( num2, ' es mes gran')\n",
    "\n",
    "elif num1 > num2:\n",
    "       print(num1, ' es mes gran')\n",
    "        \n",
    "else:\n",
    "       print('els números són els mateixos')\n",
    "   \n"
   ]
  },
  {
   "cell_type": "code",
   "execution_count": null,
   "metadata": {},
   "outputs": [],
   "source": []
  },
  {
   "cell_type": "markdown",
   "metadata": {},
   "source": [
    "- **Exercici 3**\n",
    "\n",
    "Crea un programa que et pregunti el teu nom, i et demani un número. Si el número és 0, hauria de mostrar un missatge d’error. En cas contrari, hauria de mostrar el nom repetit tants cops com indiqui el número. Per exemple, “Joan Joan Joan”."
   ]
  },
  {
   "cell_type": "code",
   "execution_count": 20,
   "metadata": {},
   "outputs": [
    {
     "name": "stdin",
     "output_type": "stream",
     "text": [
      "Quin és el teu nom?  Cris\n",
      "Quin és el teu número?  5\n"
     ]
    },
    {
     "name": "stdout",
     "output_type": "stream",
     "text": [
      "Cris\n",
      "Cris\n",
      "Cris\n",
      "Cris\n",
      "Cris\n"
     ]
    }
   ],
   "source": [
    "nom = input('Quin és el teu nom? ')\n",
    "num = int(input('Quin és el teu número? '))\n",
    "\n",
    "\n",
    "if num == 0:\n",
    "    print('valor incorrecte')\n",
    "else:\n",
    "    for times in range(num):\n",
    "        print(nom)\n"
   ]
  },
  {
   "cell_type": "code",
   "execution_count": null,
   "metadata": {},
   "outputs": [],
   "source": []
  },
  {
   "cell_type": "markdown",
   "metadata": {},
   "source": [
    "- **Exercici 4**\n",
    "\n",
    "Crea un programa que donada una llista qualsevol, et digui si es simètrica o no. Si ho és, que et digui quants elements té."
   ]
  },
  {
   "cell_type": "code",
   "execution_count": 21,
   "metadata": {},
   "outputs": [],
   "source": [
    "'''\n",
    "A list is symmetric if the first row is the same as the first column, \n",
    "the second row is the same as the second column and so on.\n",
    "'''\n",
    "\n",
    "def lista_es_simetrica(list_n):\n",
    "    length = len(list_n)\n",
    "    for value in range(0,length):\n",
    "        if len(list_n) != len(list_n[value]):\n",
    "            return False\n",
    "    checkcolumn = 0\n",
    "    list1 = []\n",
    "    list2 = []\n",
    "\n",
    "    while checkcolumn < len(list_n):\n",
    "        list1+=list_n[checkcolumn]\n",
    "        for row in list_n:\n",
    "            list2.append(row[checkcolumn])\n",
    "        \n",
    "        if list1 != list2:\n",
    "            return False\n",
    "           \n",
    "        else:\n",
    "            checkcolumn+=1 \n",
    "                  \n",
    "    return True\n",
    "\n",
    "    \n",
    "        "
   ]
  },
  {
   "cell_type": "code",
   "execution_count": 22,
   "metadata": {},
   "outputs": [
    {
     "data": {
      "text/plain": [
       "True"
      ]
     },
     "execution_count": 22,
     "metadata": {},
     "output_type": "execute_result"
    }
   ],
   "source": [
    "lista_es_simetrica([[1, 2, 3], [2, 3, 1], [3, 1, 2]])"
   ]
  },
  {
   "cell_type": "code",
   "execution_count": 23,
   "metadata": {},
   "outputs": [
    {
     "data": {
      "text/plain": [
       "False"
      ]
     },
     "execution_count": 23,
     "metadata": {},
     "output_type": "execute_result"
    }
   ],
   "source": [
    "lista_es_simetrica([[1, 6, 3], [2, 3, 1], [3, 8, 2]])"
   ]
  },
  {
   "cell_type": "markdown",
   "metadata": {},
   "source": [
    "- **Exercici 5**\n",
    "\n",
    "Crea un programa que donada una llista, et digui quants números coincideixen amb la seva posició. Per exemple [3,4,2,0,2,3,6] el 2 i el 6 coincideixen."
   ]
  },
  {
   "cell_type": "code",
   "execution_count": 49,
   "metadata": {},
   "outputs": [],
   "source": [
    "def match_numbers(list_match):\n",
    "    for i in range(len(list_match)):\n",
    "        if list_match[i]==i:\n",
    "            print(i)\n",
    "               \n",
    "           \n",
    "   "
   ]
  },
  {
   "cell_type": "code",
   "execution_count": 52,
   "metadata": {},
   "outputs": [
    {
     "name": "stdout",
     "output_type": "stream",
     "text": [
      "2\n",
      "6\n"
     ]
    }
   ],
   "source": [
    "match_numbers([3,4,2,0,2,3,6])"
   ]
  },
  {
   "cell_type": "code",
   "execution_count": null,
   "metadata": {},
   "outputs": [],
   "source": []
  }
 ],
 "metadata": {
  "kernelspec": {
   "display_name": "Python 3",
   "language": "python",
   "name": "python3"
  },
  "language_info": {
   "codemirror_mode": {
    "name": "ipython",
    "version": 3
   },
   "file_extension": ".py",
   "mimetype": "text/x-python",
   "name": "python",
   "nbconvert_exporter": "python",
   "pygments_lexer": "ipython3",
   "version": "3.8.5"
  }
 },
 "nbformat": 4,
 "nbformat_minor": 4
}
